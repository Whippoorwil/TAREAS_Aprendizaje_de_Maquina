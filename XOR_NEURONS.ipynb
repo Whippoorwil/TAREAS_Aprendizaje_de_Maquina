{
 "cells": [
  {
   "cell_type": "code",
   "execution_count": 34,
   "metadata": {},
   "outputs": [],
   "source": [
    "'''\n",
    "let us start by defining a class that will simulate what we will then call neurons.\n",
    "The excite function returns a boolean value; this value simualtes the result of\n",
    "having this particular neuron stimualted.\n",
    "'''\n",
    "\n",
    "class Neuron:\n",
    "    \n",
    "    def __init__(self, *args, bias = 0):\n",
    "        self.tendrils = len(args)\n",
    "        self.weights = list(args)\n",
    "        self.bias = bias\n",
    "        \n",
    "        \n",
    "    def excite(self,*args):\n",
    "        if len(args) != self.tendrils:\n",
    "            raise AttributeError\n",
    "            return\n",
    "        decision = sum([self.weights[i] * args[i] for i in range(self.tendrils)])\n",
    "        return decision >= self.bias"
   ]
  },
  {
   "cell_type": "code",
   "execution_count": 41,
   "metadata": {},
   "outputs": [
    {
     "name": "stdout",
     "output_type": "stream",
     "text": [
      "This is And: \n",
      "(True, True)\tTrue\n",
      "(True, False)\tFalse\n",
      "(False, True)\tFalse\n",
      "(False, False)\tFalse\n",
      "This is OR: \n",
      "(True, True)\tTrue\n",
      "(True, False)\tTrue\n",
      "(False, True)\tTrue\n",
      "(False, False)\tFalse\n",
      "This is NOT: \n",
      "True\tFalse\n",
      "False\tTrue\n"
     ]
    }
   ],
   "source": [
    "'''\n",
    "What we just did is creating a simple class, Neuron, \n",
    "by wich we implement a perceptron in the most basic way.\n",
    "Let's emulate some basic logic gates using this tool we have procured.\n",
    "'''\n",
    "\n",
    "AND = Neuron(1,1,bias = 2)\n",
    "\n",
    "print(\"This is And: \\n\"\n",
    "      + \"\\n\".join([str((i,j)) + \"\\t\" + str(AND.excite(i,j)) for i in [True,False] for j in [True,False]])\n",
    ")\n",
    "\n",
    "OR = Neuron(1,1,bias = 1)\n",
    "\n",
    "print(\"This is OR: \\n\"\n",
    "      + \"\\n\".join([str((i,j)) + \"\\t\" + str(OR.excite(i,j)) for i in [True,False] for j in [True,False]])\n",
    ")\n",
    "\n",
    "NOT = Neuron(-1,bias = 0)\n",
    "\n",
    "print(\"This is NOT: \\n\"\n",
    "     +\"\\n\".join([str(i) + \"\\t\" + str(NOT.excite(i)) for i in [True,False]])\n",
    "     )"
   ]
  },
  {
   "cell_type": "code",
   "execution_count": 43,
   "metadata": {},
   "outputs": [
    {
     "name": "stdout",
     "output_type": "stream",
     "text": [
      "This is XOR: \n",
      "(True, True)\tFalse\n",
      "(True, False)\tTrue\n",
      "(False, True)\tTrue\n",
      "(False, False)\tFalse\n"
     ]
    }
   ],
   "source": [
    "'''\n",
    "As you can see: these objects accurately model the behaviour of the\n",
    "basic gates. Using Boolean algebra one can simulate XOR as a function\n",
    "'''\n",
    "\n",
    "XOR = lambda x, y: OR.excite(AND.excite(NOT.excite(x),y), AND.excite(x,NOT.excite(y)))\n",
    "\n",
    "print(\"This is XOR: \\n\"\n",
    "      + \"\\n\".join([str((i,j)) + \"\\t\" + str(XOR(i,j)) for i in [True,False] for j in [True,False]])\n",
    ")\n",
    "\n",
    "'''\n",
    "By itself, this model cannot represent XOR,\n",
    "but creating a net (represented by the XOR function)\n",
    "we can accurately emulate this operator\n",
    "'''"
   ]
  },
  {
   "cell_type": "code",
   "execution_count": null,
   "metadata": {},
   "outputs": [],
   "source": []
  }
 ],
 "metadata": {
  "kernelspec": {
   "display_name": "Python 3",
   "language": "python",
   "name": "python3"
  },
  "language_info": {
   "codemirror_mode": {
    "name": "ipython",
    "version": 3
   },
   "file_extension": ".py",
   "mimetype": "text/x-python",
   "name": "python",
   "nbconvert_exporter": "python",
   "pygments_lexer": "ipython3",
   "version": "3.8.5"
  }
 },
 "nbformat": 4,
 "nbformat_minor": 4
}
