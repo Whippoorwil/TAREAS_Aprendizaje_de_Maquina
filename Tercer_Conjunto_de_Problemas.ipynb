{
  "nbformat": 4,
  "nbformat_minor": 0,
  "metadata": {
    "colab": {
      "name": "Tercer Conjunto de Problemas.ipynb",
      "provenance": [],
      "collapsed_sections": [],
      "authorship_tag": "ABX9TyOUXLSsqEYMfPYXLD+m6btq",
      "include_colab_link": true
    },
    "kernelspec": {
      "name": "python3",
      "display_name": "Python 3"
    },
    "language_info": {
      "name": "python"
    }
  },
  "cells": [
    {
      "cell_type": "markdown",
      "metadata": {
        "id": "view-in-github",
        "colab_type": "text"
      },
      "source": [
        "<a href=\"https://colab.research.google.com/github/drpedrazas/TAREAS_Aprendizaje_de_Maquina/blob/main/Tercer_Conjunto_de_Problemas.ipynb\" target=\"_parent\"><img src=\"https://colab.research.google.com/assets/colab-badge.svg\" alt=\"Open In Colab\"/></a>"
      ]
    },
    {
      "cell_type": "markdown",
      "metadata": {
        "id": "gIFZpe5xMrHb"
      },
      "source": [
        "##Ejercicio 2.2\n",
        "#**(a)** \n",
        "\n",
        "**(i)** Para este caso tenemos:\n",
        "$$m_{\\mathcal{H}}(N) \\leq \\binom{N}{1} + \\binom{N}{0} = N + 1$$\n",
        "\n",
        "**(ii)** Por otro lado:\n",
        "$$m_{\\mathcal{H}}(N) \\leq \\binom{N}{2} + \\binom{N}{1} + \\binom{N}{0}= \\frac{N^2 + N + 2}{2}$$\n",
        "\n",
        "#**(b)**\n",
        "\n",
        "Recuerde que si $m_{\\mathcal{H}}(N) < 2^N$ existe un punto de quiebre y, de ser así, $m_{\\mathcal{H}}(N)$ debe ser polinómica."
      ]
    },
    {
      "cell_type": "markdown",
      "metadata": {
        "id": "ULvYKRT1v80p"
      },
      "source": [
        "##Ejercicio 2.5\n",
        "Note que \n",
        "\n",
        "$$|E_{out}(g) - E_{in}(g)| = 0.1$$\n",
        "\n",
        "Luego:\n",
        "\n",
        "$$0.1 = \\sqrt{\\frac{8}{N} \\ln{\\frac{4m_{\\mathcal{H}}(2N)}{\\delta}}}$$ \n",
        "\n",
        "Es decir:\n",
        "\n",
        "$$\\delta = e^{\\frac{-(0.1)^2 N}{8}}4(201)$$\n",
        "\n",
        "$$\\delta = 709$$\n",
        "\n"
      ]
    },
    {
      "cell_type": "markdown",
      "metadata": {
        "id": "uolnu6cXzWYb"
      },
      "source": [
        "#Ejercicio 2.6\n",
        "\n",
        "**(a)** La desigualdad de Hoeffding nos da $\\epsilon = 0.096$ para el conjunto de prueba y $\\epsilon = 0.115$ para el conjunto de entrenamiento. Acá podemos usa la cota de Hoeffding dado que neustros conjuntos son finitos.\n",
        "\n",
        "**(b)** con un conjunto de entrenaminto muy pequeño, se puede obtener una hipótesis que ajusta los puntos de entrenamiento de forma perfecta, pero que no nos dice mucho sobre los puntos fuera de este conjunto. Por ejemplo: cuando sólo hay un punto de entrenamiento."
      ]
    },
    {
      "cell_type": "markdown",
      "metadata": {
        "id": "FLVNWY2mPPpK"
      },
      "source": [
        "##Problema 2.1\n",
        "\n",
        "Note que a partir de $$\\epsilon = \\sqrt{\\frac{1}{2N} \\ln{\\frac{2M}{\\delta}}}$$\n",
        "Podemos obtener $N$. Esto es:\n",
        "\n",
        "$$N= \\frac{1}{2\\epsilon^2}\\ln{\\frac{2M}{\\delta}}$$\n",
        "\n",
        "**(a)** Para $M=1$ y $\\delta = 0.05$, si $\\epsilon \\leq 0.05$ requerimos:\n",
        "\n",
        "$$N \\geq \\frac{1}{2\\cdot 0.05^2}\\ln{\\frac{2}{0.03}}=840$$\n",
        "\n",
        "**(b)** Para $M=100$ y $\\delta = 0.05$\n",
        "\n",
        "$$N \\geq \\frac{1}{2\\cdot 0.05^2}\\ln{\\frac{200}{0.03}}=1761$$\n",
        "\n",
        "**(c)** Para $M=1000$ y $\\delta = 0.05$\n",
        "\n",
        "$$N \\geq \\frac{1}{2\\cdot 0.05^2}\\ln{\\frac{2000}{0.03}}=2682$$"
      ]
    },
    {
      "cell_type": "markdown",
      "metadata": {
        "id": "1LBF-xhBjlNr"
      },
      "source": [
        "##Problema 2.12\n",
        "\n",
        "Para este caso $d_V = 10$, $\\delta = 0.05$ y $\\epsilon = 0.05$.\n",
        "\n",
        "Tenemos esta cota inferior:\n",
        "\n",
        "$$N \\geq \\frac{8}{\\epsilon^2} \\ln \\left ( 4 \\frac{(2N)^{V_c} + 1}{\\delta} \\right )$$\n",
        "\n",
        "Tomemos $N=500$ y realicemos un proceso iterativo simple. \n",
        "\n"
      ]
    },
    {
      "cell_type": "code",
      "metadata": {
        "colab": {
          "base_uri": "https://localhost:8080/"
        },
        "id": "SRhv1xrLfsh-",
        "outputId": "04118afc-d426-49cc-c46d-13f70d8c3a32"
      },
      "source": [
        "import numpy as np\n",
        "func = lambda x: (8/(0.05)**2)*np.log(4*((2*x)**10+1)/0.05)\n",
        "n_old = 500\n",
        "n_new = func(n_old)\n",
        "it = 0\n",
        "while abs(n_old-n_new) > 0:\n",
        "  it += 1 \n",
        "  n_old = n_new\n",
        "  n_new = func(n_old)\n",
        "print(n_old, it)"
      ],
      "execution_count": null,
      "outputs": [
        {
          "output_type": "stream",
          "text": [
            "452956.8647230992 16\n"
          ],
          "name": "stdout"
        }
      ]
    },
    {
      "cell_type": "markdown",
      "metadata": {
        "id": "0_2rEuZNg5Ly"
      },
      "source": [
        "Luego $N=452957$"
      ]
    },
    {
      "cell_type": "markdown",
      "metadata": {
        "id": "38NoA91K_E8Q"
      },
      "source": [
        "##Problema 2.16\n",
        "\n",
        "Escogemos $D+1$ puntos distintos en $\\mathbb{R}$: $x_0, \\cdots , x_D$. Consirdere la matriz:\n",
        "\n",
        "$$A=  \\begin{pmatrix}1 & a_0 & \\cdots & x_0^{D} \\\\\n",
        " \\vdots &  \\vdots & & \\vdots \\\\\n",
        " 1 & x_N & \\cdots & x_N^{D}\\end{pmatrix}$$\n",
        "\n",
        " Como $x_j \\neq x_i$ para $i \\neq j$, entonces $\\det A \\neq 0$, luego $A^{-1}$ existe. Considere: $y \\in \\{-1,1\\}^{D+1}$, una dicotomía cualquiera. Existe $c$ tal que $A^{-1} y = c$; es decir: $Ac = y$, esto es:\n",
        "\n",
        " $$h_{s}(x_k) = signo(\\sum_{i=0}^{D} c_i x_k^i)=y_k$$\n",
        "\n",
        " para todo $k=0, \\cdots , D$. En conclusión; nuestra hipótesis $\\mathcal{H}$ parte estos puntos, luego $m_{\\mathcal{H}}(D+1) = 2^{D+1}$, luego $d_{VC} (\\mathcal{H}) \\geq D+1 $.\n",
        "\n",
        " Por otro lado: tome $D+2$ puntos en $\\mathbb{R}$: $x_0, \\cdots x_{D+1}$. Se pueden construir $D+2$ vectores $(x_k^0, x_k, \\cdots, x_k^{D+1})$ : uno por cada $0 \\leq k \\leq D + 1 $. Estos son $D+2$ vectores en $\\mathbb{R}^{D+1}$, luego es un conjunto de vectores dependiente. \n",
        " \n",
        " Si $r_k = (x_k, \\cdots , x_k^{D})$, exite $t$ tal que $r_t = \\sum_{i\\neq t} a_i r_i$ con no todos los $a_i$'s iguales a $0$. Sea $y_i = signo(a_i)$. Consideramos entonces $c=(c_0, \\cdots, c_D)$ y vemos que:\n",
        "\n",
        " $$r_{t}c^{T}=(\\sum_{i\\neq t} a_i r_i)c^{T} = \\sum_{i \\neq t} \\sum_{j=0}^{D} c_j a_i x_i^j$$\n",
        "\n",
        " Asuma que existe $c$ tal que \n",
        "\n",
        " $$y_i = h_c (x_i) = signo(\\sum_{j=0}^{D} c_j x_i^j)$$\n",
        "\n",
        " para cualquier $i$ tal que $a_i \\neq 0$ y\n",
        "\n",
        " $$y_t = h_c(x_t)=signo(\\sum_{j=0}^{D} c_j x_t^j)$$\n",
        "\n",
        " en este caso \n",
        "\n",
        " $$signo(a_i) = y_i = signo(\\sum_{j=0}^{D} c_j x_i^j)$$\n",
        "\n",
        " que es lo mismo que\n",
        "\n",
        " $$\\sum_{j=0}^D c_j a_i x_i^j > 0$$\n",
        " \n",
        " Entonces $r_t c^T > 0$, luego $y_t = 1$. $y_t$ puede ser $-1$, luego hay una dicotomía que no puede ser generada por $\\mathcal{H}$."
      ]
    }
  ]
}