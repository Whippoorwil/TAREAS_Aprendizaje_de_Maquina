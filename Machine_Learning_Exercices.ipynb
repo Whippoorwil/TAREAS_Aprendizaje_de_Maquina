{
  "nbformat": 4,
  "nbformat_minor": 0,
  "metadata": {
    "colab": {
      "name": "Machine Learning Exercices.ipynb",
      "provenance": [],
      "collapsed_sections": [],
      "authorship_tag": "ABX9TyP0TYoea5wN3NG2MAvaTbLw",
      "include_colab_link": true
    },
    "kernelspec": {
      "name": "python3",
      "display_name": "Python 3"
    },
    "language_info": {
      "name": "python"
    }
  },
  "cells": [
    {
      "cell_type": "markdown",
      "metadata": {
        "id": "view-in-github",
        "colab_type": "text"
      },
      "source": [
        "<a href=\"https://colab.research.google.com/github/Whippoorwil/TAREAS_Aprendizaje_de_Maquina/blob/main/Machine_Learning_Exercices.ipynb\" target=\"_parent\"><img src=\"https://colab.research.google.com/assets/colab-badge.svg\" alt=\"Open In Colab\"/></a>"
      ]
    },
    {
      "cell_type": "markdown",
      "metadata": {
        "id": "YcI3sfN83gc3"
      },
      "source": [
        "#Exercice 1.1\n",
        "\n",
        "Express each of the following tasks in the framework of learning from data by specifying the input space $\\chi$, output space $Y$, target function $f: \\chi \\rightarrow Y$, and the specifics of the data ser that we will learn from.\n",
        "##Solution\n",
        "###(a)\n",
        "Medical diagnosis: A patient walks in with a medical history and some symptons, and you want to identify the problem.\n",
        "\n",
        "$\\chi$ is the set of all patients codified through this relevant information (medical history and symptons) while $Y$ is the set of all illnesses that could coincide with that info. Our target function $f$ asociates $\\chi$ with $Y$ and, by definition, there is no better function which could fit $\\chi$ to $Y$.\n",
        "###(b)\n",
        "The handwriten digits must be represented in a way it is understandable to the machine. Let it be a matrix of $0$'s and $1$'s which represent blank and black space, respectively. $f$ map the set of all matrices of this kind to $Y=\\{0,1,2,3,4,5,6,7,8,9\\}$.\n",
        "###(c)\n",
        "$f$ maps $\\chi$, the set of lists of words; each of these lists the words in an email, to $Y=\\{False, True\\}$. \"True\"; it's spam. \"False\": it's not spam.\n",
        "###(d)\n",
        "$\\chi$ is the set of triples of the form $(price, temperature, \\text{day of the week})$ and $f$ maps $\\chi$ to $Y$, where $Y$ is a subset of the real numbers which, in turn, represents the electric load.\n",
        "###(e)\n",
        "Predicting if a videogame is going to go viral. $\\chi = \\{x: x=(x_1, \\cdots , x_n)\\}$ where $x_i$ is a significative characteristic (Is it a psequel?, an RTS?, multiplayer?, etc...). $Y=\\{True, False\\}$, although this assumes \"viral\" is well defined.\n",
        "#Exercice 1.2\n",
        "Suppose that we use a perceptron to detect spam messages. Let's say that each email message is represented by the frequency of ocurrence of keywords, and output is $+1$ if the message is considered spam.\n",
        "###(a)\n",
        "Can you think of some keywords that will end up with a large weight in perceptron?\n",
        "\n",
        "Everything having to do with prices \"Winner\", \"Congratulations\". Too many exclamation signs after a word (we could treat this as a word with some regex). The frase \"Visitor umber x\". \n",
        "###(b)\n",
        "What about words that will get a negative weight?\n",
        "\n",
        "If the remitent is an offical account, it might be legit. Using words in context and a mesured use of punctuation are also signs of legitimate activity. \n",
        "\n",
        "###(c)\n",
        "Our bias, I suppose. How many of these words are we willing to tolerate in a single message. \n",
        "\n",
        "#Exercice 1.3\n",
        "The wight update rule in (1.3) has the nice interpretaton that it moves in the direction of classifying $x(t)$ correctly.\n",
        "###(a)\n",
        "Show that $y(t)W^{T}(t)x(t)<0$.\n",
        "#Solution:\n",
        "Note that if $x(t)$ is missclasified $y(t) \\neq sig(W^{T}(t)x(t))$, then $y(t)W^{T}(t)x(t)<0$ by mere definition.\n",
        "###(b)\n",
        "Show that $y(t)W^{T}(t+1)x(t) > y(t)W^{T}(t)x(t)$.\n",
        "#Solution:\n",
        "Let's use that $W(t+1) = W(t) + y(t)x(t)$, then $$y(t)W^{T}(t+1)x(t)=y(t)(W(t) + y(t)x(t))^{T}x(t)$$ That is \n",
        "$$y(t)W^{T}(t+1)x(t)=y(t)W^{T}(t)x(t)+y(t)(x^{T}(t)y^{T}(t))x(t)$$\n",
        "Note that $y(t)(x^{T}(t)y^{T}(t))x(t) > 0$. We conclude that $$y(t)W^{T}(t+1)x(t) > y(t)W^{T}(t)x(t)$$\n",
        "###(c)\n",
        "Argue that the move from $W(t)$ to $W(t+1)$ is a move in the \"right direction\".\n",
        "\n",
        "\n",
        "#Solution:\n",
        " suppose $y(t)$ is negative and $W^{T}(t)x(t)$ is positive. If we take $W(t+1) = W(t) + y(t)x(t)$ we see that $W^T(t+1)x(t)= W^T(t)x(t) + y(t)|x(t)|^2$. In this case $W^T(t+1)x(t)<W^T(t)x(t)$, which is good. If we have the opposite case; that in which $y(t)$ is positive and $W^{T}(t)x(t)$ negative, we get that $W^T(t+1)x(t)> W^T(t)x(t)$, which is also good. \n",
        "#Exercice 1.11\n",
        "From now on I won't write the formulation of the problem.\n",
        "###(a)\n",
        "No. As good as $S$ might be at adjusting $D$ the posibility of it being completely useless outside of $D$ is non zero.\n",
        "###(b)\n",
        "Yes: Consider $f(x)=1$ if $x \\in D$ and $f(x)=-1$ otherwise. In this case $C$ is better than $S$.\n",
        "###(c)\n",
        "I want to do it without assuming all the $y_n=1$ first, I will then adress this pathological case.\n",
        "\n",
        "\n",
        "We know that for $x\\in \\mathbb{R}$, $P[f(x)=1]=p$ with $p=0.9$.\n",
        "\n",
        "Let $D=\\{(x_1,y_1), \\cdots ,(x_{25},y_{25})\\}$. If $D'=\\{d \\in D: d=(x_i,y_i)\\text{ and } y_i=1\\}$, for $S$ to predict worst than $C$ we need $|D'|<13$. The probability of this is easy to calculate:\n",
        "$$P(|D'|<13)=\\sum_{k=0}^{12}\\binom{25}{k}p^{k}(1-p)^{n-k}$$\n",
        "The result of this calculation is $1.62083 \\times 10^{-7}$, extremely unlikely.\n",
        "\n",
        "If we take it as all $y_n = 1$, then the probability is $0.9$, as $S$ will choose $h_1$ and for any $x$ the probability of $f(x)=h_1(x)$ is not other than $0.9$.\n",
        "###(d)\n",
        "If $p > 0.5$ we need $|D'|<13$ for $C$ to predict better than $S$. The probability of this happening is always less than $0.5$. \n",
        "\n",
        "If $p<0.5$ we need $|D'| \\geq 13$. Again, the probability of this happening is less than $0.5$. We conclude that taking $S$ as our model is always smarter, at least a priori. \n",
        "\n",
        "If we assume that all $y_n=1$, then it suffices that $p<0.5$ for $C$ to be better than $S$, because in that case $S$ will choose $h_1$ and $C$ $h_2$, and the probability for $C$ to predict properly any $x$ outside of $D$ will be $1-p > 0.5$, greater than $p$; the probability of $S$ predicting correctly.\n",
        "\n"
      ]
    },
    {
      "cell_type": "markdown",
      "metadata": {
        "id": "hVrEdyxE5apu"
      },
      "source": [
        "#Exercice 1.10\n",
        "\n",
        "#(a)\n",
        "It is $0.5$ for these are fair coins.\n",
        "\n",
        "#(d)\n",
        "$v_{min}$ does not obey Hoeffding bound. I'll show the simulation in a minute.\n",
        "#(e)\n",
        "\n"
      ]
    },
    {
      "cell_type": "code",
      "metadata": {
        "colab": {
          "base_uri": "https://localhost:8080/"
        },
        "id": "cj_tpXMm6YMQ",
        "outputId": "2fe97c9d-c63e-47ba-9a93-47d5e58be72d"
      },
      "source": [
        "'''\n",
        "This rutine will allow us to do the experiment swiftly. \n",
        "What we do here is summoning 1000 coins and tossing them independently. \n",
        "We then proceed to take each v_i as asked. \n",
        "'''\n",
        "\n",
        "import numpy as np\n",
        "import matplotlib.pyplot as plt\n",
        "\n",
        "def experimento():\n",
        "    sum = np.zeros(1000)\n",
        "    chance = np.random.uniform(size=1000)\n",
        "    sum[chance > 0.5] = 1\n",
        "    for i in range(10):\n",
        "      toss = np.zeros(1000)\n",
        "      chance = np.random.uniform(size=1000)\n",
        "      toss[chance > 0.5] = 1\n",
        "      sum += toss \n",
        "    sum /= 10\n",
        "    v_rand = np.random.choice(sum)\n",
        "    v_1 = sum[0]\n",
        "    v_min = min(sum)\n",
        "    return v_1, v_rand, v_min\n",
        "\n",
        "print(\"These are v_1 = {} v_rand = {} v_min = {}\".format(*experimento()))"
      ],
      "execution_count": 11,
      "outputs": [
        {
          "output_type": "stream",
          "text": [
            "These are v_1 = 0.6 v_rand = 0.6 v_min = 0.0\n"
          ],
          "name": "stdout"
        }
      ]
    },
    {
      "cell_type": "code",
      "metadata": {
        "colab": {
          "base_uri": "https://localhost:8080/",
          "height": 761
        },
        "id": "hw-5CIcxfmet",
        "outputId": "ebcfc94e-e0f8-41fd-90d8-37a46975211e"
      },
      "source": [
        "'''\n",
        "Time for he real thing. This code repeats de experiemnt previously defined\n",
        "and collects v_1, v_ rand and v_min inside dictionaries; documenting the \n",
        "number of times a particular data point for this data that we are looking at.\n",
        "'''\n",
        "dic_1 = {}\n",
        "dic_rand = {}\n",
        "dic_min = {}\n",
        "for i in range(100000):\n",
        "  v_1, v_rand, v_min = experimento()\n",
        "  if v_1 in dic_1:\n",
        "    dic_1[v_1] += 1\n",
        "  else:\n",
        "    dic_1[v_1] = 1\n",
        "  if v_rand in dic_rand:\n",
        "    dic_rand[v_rand] += 1\n",
        "  else:\n",
        "    dic_rand[v_rand] = 1\n",
        "  if v_min in dic_min:\n",
        "    dic_min[v_min] += 1\n",
        "  else:\n",
        "    dic_min[v_min] = 1\n",
        "#We plot the distribution of v_1\n",
        "plt.bar(dic_1.keys(), dic_1.values(), 0.08)\n",
        "plt.show()\n",
        "#We plot the distribution of v_min\n",
        "plt.bar(dic_min.keys(), dic_min.values(), 0.01)\n",
        "plt.show()\n",
        "#We plot the distribution of v_rand\n",
        "plt.bar(dic_rand.keys(), dic_rand.values(), 0.08)\n",
        "plt.show()"
      ],
      "execution_count": 12,
      "outputs": [
        {
          "output_type": "display_data",
          "data": {
            "image/png": "[encoded data removed]",
            "text/plain": [
              "<Figure size 432x288 with 1 Axes>"
            ]
          },
          "metadata": {
            "tags": [],
            "needs_background": "light"
          }
        },
        {
          "output_type": "display_data",
          "data": {
            "image/png": "[encoded data removed]",
            "text/plain": [
              "<Figure size 432x288 with 1 Axes>"
            ]
          },
          "metadata": {
            "tags": [],
            "needs_background": "light"
          }
        },
        {
          "output_type": "display_data",
          "data": {
            "image/png": "[encoded data removed]",
            "text/plain": [
              "<Figure size 432x288 with 1 Axes>"
            ]
          },
          "metadata": {
            "tags": [],
            "needs_background": "light"
          }
        }
      ]
    },
    {
      "cell_type": "code",
      "metadata": {
        "colab": {
          "base_uri": "https://localhost:8080/",
          "height": 282
        },
        "id": "U_Jt-zO5k8Fe",
        "outputId": "bfc38ab7-e243-4c55-d653-2b64b35317ac"
      },
      "source": [
        "epsilons = np.arange(0,0.5,0.05)\n",
        "hoeffding = 2.0*np.exp(-2.0*10*epsilons**2)\n",
        "v_1_array = np.zeros(0)\n",
        "v_rand_array = np.zeros(0)\n",
        "v_min_array = np.zeros(0)\n",
        "for i in range(10):\n",
        "  v_rand_array = np.append(v_rand_array,sum(dic_rand[x] for x in dic_rand if np.abs(x - 0.5) >= epsilons[i]) / 100000)\n",
        "  v_1_array = np.append(v_1_array,sum(dic_1[x] for x in dic_1 if np.abs(x - 0.5) >= epsilons[i]) / 100000)\n",
        "  v_min_array = np.append(v_min_array,sum(dic_min[x] for x in dic_min if np.abs(x - 0.5) >= epsilons[i]) / 100000)\n",
        "\n",
        "plt.plot(epsilons, v_rand_array, marker='o', color='g', linewidth=1, linestyle='dashed', label='Moneda Aleatoria')\n",
        "plt.plot(epsilons, v_1_array, marker='+', markerfacecolor='red', markersize=12, color='m', linewidth=1, label='Primera Moneda')\n",
        "plt.plot(epsilons, v_min_array, marker='+', color='c', linewidth=1, linestyle='dashed', label='Mínima')\n",
        "plt.plot(epsilons, hoeffding, marker='o', markerfacecolor='red', markersize=4, color='red', label='hoeffding')\n",
        "plt.legend()"
      ],
      "execution_count": 39,
      "outputs": [
        {
          "output_type": "execute_result",
          "data": {
            "text/plain": [
              "<matplotlib.legend.Legend at 0x7f01002da3d0>"
            ]
          },
          "metadata": {
            "tags": []
          },
          "execution_count": 39
        },
        {
          "output_type": "display_data",
          "data": {
            "image/png": "[encoded data removed]",
            "text/plain": [
              "<Figure size 432x288 with 1 Axes>"
            ]
          },
          "metadata": {
            "tags": [],
            "needs_background": "light"
          }
        }
      ]
    },
    {
      "cell_type": "markdown",
      "metadata": {
        "id": "iB90TLkat-jZ"
      },
      "source": [
        "A remarcable result we got here.\n",
        "When selecting the coin at random, or selecting the first one (which is essentially the same), we find that the probability of $v > \\mu$ respects Hoeffding's bound nicely. However; choosing the minimun frequency does not. There might be several reasons for this. For one, chosing the minimun frequency amounts to a completely different probability distribution; not a binomial one, which is the kind of distribution we are having here. For this reason, in order for Hoeffing's bound to be applicable we should look at it in terms of this new distribution's $\\mu$.\n",
        "\n",
        "One can better see this by noticing that the probability of a certain coin of yielding a certain $v$ is equal to the result of calculating the probability of achieving $10v$  successes repeating a Bernoulli experiment $10$ times. This is the case for selecting the coin at random, or the first coin, for we are not imposing a number of succeses based on the rest of the coins. Note that when we select the minimum frequency, we add the condition of this coin having a frequency smaller than that of the others, making the election non independant, changing our distribution and thus our $\\mu$.\n",
        "\n",
        "A third explenation which I found online, and appears to relate this mathematical concepts to the field of AI, states that the reason for this case not respecting Hoeffding's bound is the fact that in the other cases we have agreed on the selection, independant of the result, beforehand. Whilsts as for the case in which we choose the minimun frequency we have to first make the computation, and then select based on the frequency, which would amount to learning outside of $D$ from the begining, something which obviously absurd. As probability is nothing by a measure of our ignorance, I'm inclined to reconcile these two interpretations: the minimum frequency does not respect Hoeffding's bound, because selecting these frequency amounts to work in a set we are no longer ignorant about; we select from a pool of experiments which results are already defined, contrasted with the a priori selection we made when selecting the first frequency or one at random. "
      ]
    }
  ]
}