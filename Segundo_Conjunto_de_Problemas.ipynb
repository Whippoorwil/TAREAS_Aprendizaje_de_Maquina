{
  "nbformat": 4,
  "nbformat_minor": 0,
  "metadata": {
    "colab": {
      "name": "Segundo Conjunto de Problemas.ipynb",
      "provenance": [],
      "authorship_tag": "ABX9TyOgGLkQxCvVsOyeWMXvO7AH",
      "include_colab_link": true
    },
    "kernelspec": {
      "name": "python3",
      "display_name": "Python 3"
    },
    "language_info": {
      "name": "python"
    }
  },
  "cells": [
    {
      "cell_type": "markdown",
      "metadata": {
        "id": "view-in-github",
        "colab_type": "text"
      },
      "source": [
        "<a href=\"https://colab.research.google.com/github/drpedrazas/TAREAS_Aprendizaje_de_Maquina/blob/main/Segundo_Conjunto_de_Problemas.ipynb\" target=\"_parent\"><img src=\"https://colab.research.google.com/assets/colab-badge.svg\" alt=\"Open In Colab\"/></a>"
      ]
    },
    {
      "cell_type": "markdown",
      "metadata": {
        "id": "0jvIu9BjkUa9"
      },
      "source": [
        "## Ejercicio 1.12\n",
        "\n",
        "La respuesta es C.\n",
        "\n",
        "Considero que esta es la respuesta correcta. $g$ jamás va a ser una aproximación perfecta de $f$, pero puede ser bastante fiel; si logramos encontrarle. Caso contrario habremos fallado. Hay que recordar que, dependiendo del problema, existe una posibildiad de que no sea posible encontrar un $g$, o que fallemos encontrándolo. "
      ]
    },
    {
      "cell_type": "markdown",
      "metadata": {
        "id": "bL3WoPzikkwI"
      },
      "source": [
        "## Problema 1.2\n",
        "\n",
        "Considere el perceptrón en dos dimensiones: $h(x) = signo(w^{T}x)$ donde $w=[w_0,w_1,w_2]^{T}$ y $x=[1,x_1,x_2]^{T}$.\n",
        "\n",
        "**a)** demuestre que las regiones en el plano tal que $h(x) = +1$ y $h(x) = -1$ están separados por una línea. Si expresamos esta línea como $x_2 = a x_1  + b$, ¿qué es la pendiente $a$ y la intercepción $b$ en términos de $w_0,w_1,w_2$?\n",
        "\n",
        "**b)** dibuje la imagen para $w=[1,2,3]^T$ y $w = -[1,2,3]^{T}$."
      ]
    },
    {
      "cell_type": "markdown",
      "metadata": {
        "id": "pF-twvEtqMej"
      },
      "source": [
        "#Solución:\n",
        "\n",
        "**a)** Si existen dos regiones definidas por $h(x)$, su frontera ha de estar dada por aquellos puntos $x$ tal que $h(x)=0$. Esto es: $w_0 +w_1 x_1 + w_2 x_2 = 0$. Si $w$ ya ha sido encontrado, y es constante, entonces: $$x_2 = -\\frac{w_1}{w_2}x_2 - \\frac{w_0}{w_2}$$ \n",
        "\n",
        "De acá se sigue que: $a = -\\frac{w_1}{w_2}$ y $b=- \\frac{w_0}{w_2}$.\n",
        "\n",
        "\n",
        "**b)** Son la misma recta: \n",
        "$$y = -\\frac{3}{2}x - \\frac{1}{2}$$\n",
        "$$y = -\\frac{-3}{-2}x - \\frac{-1}{-2}= -\\frac{3}{2}x - \\frac{1}{2}$$"
      ]
    },
    {
      "cell_type": "code",
      "metadata": {
        "colab": {
          "base_uri": "https://localhost:8080/",
          "height": 282
        },
        "id": "bhnsMlqXCw_L",
        "outputId": "a4ea9a90-d800-4991-9d83-e15294992050"
      },
      "source": [
        "import matplotlib.pyplot as plt\n",
        "import numpy as np\n",
        "recta = lambda x: (-3/2)* x - (1/2)\n",
        "xs = np.arange(-100,100,1)\n",
        "fig = plt.figure()\n",
        "ax = plt.axes()\n",
        "ax.plot(xs, recta(xs))"
      ],
      "execution_count": null,
      "outputs": [
        {
          "output_type": "execute_result",
          "data": {
            "text/plain": [
              "[<matplotlib.lines.Line2D at 0x7f34c0b9e390>]"
            ]
          },
          "metadata": {
            "tags": []
          },
          "execution_count": 3
        },
        {
          "output_type": "display_data",
          "data": {
            "image/png": "[encoded data removed]",
            "text/plain": [
              "<Figure size 432x288 with 1 Axes>"
            ]
          },
          "metadata": {
            "tags": [],
            "needs_background": "light"
          }
        }
      ]
    },
    {
      "cell_type": "markdown",
      "metadata": {
        "id": "j_mpqRejEiHE"
      },
      "source": [
        "##Problema 1.4\n",
        "\n",
        "En el ejercicio 1.4 usamos un conjunto generado artificialmente para estudiar un perceptrón comp algoritmo de aprendizaje. Estudiaremos el algoritmo con conjuntos de datos de distintos tamaños:\n",
        "\n",
        "**(a)** genera un conjunto separable de tamaño 20 como se estipula en el ejercicio 1.4. Grafica los ejemplos $\\{(x_n,y_n)\\}$ así como la función objetivo $f$ en un plano. Asegúrate de marcar los ejemplos para las diferentes clases de forma distinta y agregar etiquetas para los ejes de la gráfica.\n",
        "\n",
        "**(b)** ejecuta el algoritmo del perceptrón sobre este conjunto y reporta el número de iteraciones necesarias anes e la convergencia. Grafica los ejemplos $\\{ (x_n,y_n)\\}$, la función objetivo $f$ y la hipótesis $g$ en la misma gráfica. Comenta sobre la proximidad de $f$ a $g$.\n",
        "\n",
        "**(c)** Repite $(b)$ con otro conjunto generado aleatoriamente de tamaño $20$. Compara tus resultados con $(b)$.\n",
        "\n",
        "**(d)** Repite todo en $(b)$ con otro conjunto generado aleatoriamente de tamaño $100$.\n",
        "\n",
        "**(e)** Repite todo en $(b)$ con otro conjunto generado aleatoriamente de tamaño $1000$.\n",
        "\n",
        "**(f)** modifica el algoritmo para trabajar con $x_n \\in \\mathbb{R}^{10}$. Genera un conjunto separable de tamaño $1000$ y ejecuta el algoritmo una vez más. ¿Cuántas iteraciones necesitamos para la convergencia?\n",
        "\n",
        "**(g)** usa el algoritmo en $(f)$ para un conjunto de tamaño $100$. Acá, sin embargo, escogeremos $x(t)$ de forma aleatoria. Grafica un histograma detallando el númro de iteraciones requeridas.\n",
        "\n",
        "**(h)** resume tus resultados con respecto a la precisión como una función de $N$ y $d$. "
      ]
    },
    {
      "cell_type": "markdown",
      "metadata": {
        "id": "Q_vVrS6TLaU6"
      },
      "source": [
        "#Solución"
      ]
    },
    {
      "cell_type": "code",
      "metadata": {
        "colab": {
          "base_uri": "https://localhost:8080/",
          "height": 549
        },
        "id": "GoaHvNf6LhJj",
        "outputId": "aec2533c-9ce2-41fd-8dea-8874b53e4ab3"
      },
      "source": [
        "#(a) y (b)\n",
        "\n",
        "f = lambda x: -x + 1 # escogemos esta función\n",
        "region = lambda x: -1 if f(x[1]) >= x[2] else 1\n",
        "\n",
        "puntos = np.random.rand(20,2)\n",
        "xs = [np.array([1,x[0],x[1]]) for x in puntos]\n",
        "w = np.random.randint(10, size = 3) # una elección caprichosa\n",
        "ys  = {tuple(i): region(i) for i in xs}\n",
        "\n",
        "'''\n",
        "Filtremos los elementos que, dada esta elección, son clasificados adecuadamente \n",
        "'''\n",
        "\n",
        "no_clasificado = list(filter(lambda x: np.sign(np.sum(w*x)) != ys[tuple(x)], xs))\n",
        "\n",
        "iteraciones = 0\n",
        "while True:\n",
        "  if len(no_clasificado) == 0:\n",
        "    break\n",
        "  iteraciones += 1\n",
        "  next_x = no_clasificado[-1]\n",
        "  w = w + ys[tuple(next_x)]*next_x\n",
        "  no_clasificado = list(filter(lambda x: np.sign(np.sum(w*x)) != ys[tuple(x)], xs))\n",
        "g = lambda x: -(w[1]/w[2])*x - (w[0]/w[2])\n",
        "\n",
        "fig = plt.figure()\n",
        "ax1 = fig.add_subplot(111)\n",
        "\n",
        "ax1.scatter([i[1] for i in xs if ys[tuple(i)] == 1], [i[2] for i in xs if ys[tuple(i)] == 1], s=10, c='g', marker=\"x\", label='upper')\n",
        "ax1.scatter([i[1] for i in xs if ys[tuple(i)] == -1], [i[2] for i in xs if ys[tuple(i)] == -1], s=10, c='r', marker=\"o\", label='downer')\n",
        "ax1.plot([i[0] for i in puntos], [f(i[0]) for i in puntos])\n",
        "ax1.plot([i[0] for i in puntos], [g(i[0]) for i in puntos])\n",
        "plt.legend(loc='upper left');\n",
        "plt.show()\n",
        "iteraciones_a =  iteraciones\n",
        "print(\"Número de iteraciones: \", iteraciones_a)\n",
        "iteraciones = 0\n",
        "\n",
        "# a repetirlo para el punto (c):\n",
        "\n",
        "puntos = np.random.rand(20,2)\n",
        "xs = [np.array([1,x[0],x[1]]) for x in puntos]\n",
        "w = np.random.randint(10, size = 3) # una elección caprichosa\n",
        "ys  = {tuple(i): region(i) for i in xs}\n",
        "\n",
        "'''\n",
        "Filtremos los elementos que, dada esta elección, son clasificados adecuadamente \n",
        "'''\n",
        "\n",
        "no_clasificado = list(filter(lambda x: np.sign(np.sum(w*x)) != ys[tuple(x)], xs))\n",
        "\n",
        "iteraciones = 0\n",
        "while True:\n",
        "  if len(no_clasificado) == 0:\n",
        "    break\n",
        "  iteraciones += 1\n",
        "  next_x = no_clasificado[-1]\n",
        "  w = w + ys[tuple(next_x)]*next_x\n",
        "  no_clasificado = list(filter(lambda x: np.sign(np.sum(w*x)) != ys[tuple(x)], xs))\n",
        "g = lambda x: -(w[1]/w[2])*x - (w[0]/w[2])\n",
        "\n",
        "fig = plt.figure()\n",
        "ax1 = fig.add_subplot(111)\n",
        "\n",
        "ax1.scatter([i[1] for i in xs if ys[tuple(i)] == 1], [i[2] for i in xs if ys[tuple(i)] == 1], s=10, c='b', marker=\"s\", label='upper')\n",
        "ax1.scatter([i[1] for i in xs if ys[tuple(i)] == -1], [i[2] for i in xs if ys[tuple(i)] == -1], s=10, c='r', marker=\"o\", label='downer')\n",
        "ax1.plot([i[0] for i in puntos], [f(i[0]) for i in puntos])\n",
        "ax1.plot([i[0] for i in puntos], [g(i[0]) for i in puntos])\n",
        "plt.legend(loc='upper left');\n",
        "plt.show()\n",
        "iteraciones_a =  iteraciones\n",
        "print(\"Número de iteraciones: \", iteraciones_a)\n",
        "iteraciones = 0"
      ],
      "execution_count": null,
      "outputs": [
        {
          "output_type": "display_data",
          "data": {
            "image/png": "[encoded data removed]",
            "text/plain": [
              "<Figure size 432x288 with 1 Axes>"
            ]
          },
          "metadata": {
            "tags": [],
            "needs_background": "light"
          }
        },
        {
          "output_type": "stream",
          "text": [
            "Número de iteraciones:  74\n"
          ],
          "name": "stdout"
        },
        {
          "output_type": "display_data",
          "data": {
            "image/png": "[encoded data removed]",
            "text/plain": [
              "<Figure size 432x288 with 1 Axes>"
            ]
          },
          "metadata": {
            "tags": [],
            "needs_background": "light"
          }
        },
        {
          "output_type": "stream",
          "text": [
            "Número de iteraciones:  39\n"
          ],
          "name": "stdout"
        }
      ]
    },
    {
      "cell_type": "code",
      "metadata": {
        "colab": {
          "base_uri": "https://localhost:8080/",
          "height": 282
        },
        "id": "5Ik1AmfH688g",
        "outputId": "eb979d5c-770c-4b42-bada-fbf3e7c06853"
      },
      "source": [
        "#(d)\n",
        "puntos = np.random.rand(100,2)\n",
        "xs = [np.array([1,x[0],x[1]]) for x in puntos]\n",
        "w = np.random.randint(10, size = 3) # una elección caprichosa\n",
        "ys  = {tuple(i): region(i) for i in xs}\n",
        "\n",
        "'''\n",
        "Filtremos los elementos que, dada esta elección, son clasificados adecuadamente \n",
        "'''\n",
        "\n",
        "no_clasificado = list(filter(lambda x: np.sign(np.sum(w*x)) != ys[tuple(x)], xs))\n",
        "\n",
        "iteraciones = 0\n",
        "while True:\n",
        "  if len(no_clasificado) == 0:\n",
        "    break\n",
        "  iteraciones += 1\n",
        "  next_x = no_clasificado[-1]\n",
        "  w = w + ys[tuple(next_x)]*next_x\n",
        "  no_clasificado = list(filter(lambda x: np.sign(np.sum(w*x)) != ys[tuple(x)], xs))\n",
        "g = lambda x: -(w[1]/w[2])*x - (w[0]/w[2])\n",
        "\n",
        "fig = plt.figure()\n",
        "ax1 = fig.add_subplot(111)\n",
        "\n",
        "ax1.scatter([i[1] for i in xs if ys[tuple(i)] == 1], [i[2] for i in xs if ys[tuple(i)] == 1], s=10, c='g', marker=\"x\", label='upper')\n",
        "ax1.scatter([i[1] for i in xs if ys[tuple(i)] == -1], [i[2] for i in xs if ys[tuple(i)] == -1], s=10, c='r', marker=\"o\", label='downer')\n",
        "ax1.plot([i[0] for i in puntos], [f(i[0]) for i in puntos])\n",
        "ax1.plot([i[0] for i in puntos], [g(i[0]) for i in puntos])\n",
        "plt.legend(loc='upper left');\n",
        "plt.show()\n",
        "iteraciones_d =  iteraciones\n",
        "print(\"Número de iteraciones: \", iteraciones_a)\n",
        "iteraciones = 0"
      ],
      "execution_count": null,
      "outputs": [
        {
          "output_type": "display_data",
          "data": {
            "image/png": "[encoded data removed]",
            "text/plain": [
              "<Figure size 432x288 with 1 Axes>"
            ]
          },
          "metadata": {
            "tags": [],
            "needs_background": "light"
          }
        },
        {
          "output_type": "stream",
          "text": [
            "Número de iteraciones:  39\n"
          ],
          "name": "stdout"
        }
      ]
    },
    {
      "cell_type": "code",
      "metadata": {
        "colab": {
          "base_uri": "https://localhost:8080/",
          "height": 282
        },
        "id": "SO-zgE6sB0f_",
        "outputId": "99753f77-85d3-415f-90c9-e6ddb2b1e3b8"
      },
      "source": [
        "#(e)\n",
        "puntos = np.random.rand(1000,2)\n",
        "xs = [np.array([1,x[0],x[1]]) for x in puntos]\n",
        "w = np.random.randint(10, size = 3) # una elección caprichosa\n",
        "ys  = {tuple(i): region(i) for i in xs}\n",
        "\n",
        "'''\n",
        "Filtremos los elementos que, dada esta elección, son clasificados adecuadamente \n",
        "'''\n",
        "\n",
        "no_clasificado = list(filter(lambda x: np.sign(np.sum(w*x)) != ys[tuple(x)], xs))\n",
        "\n",
        "iteraciones = 0\n",
        "while True:\n",
        "  if len(no_clasificado) == 0:\n",
        "    break\n",
        "  iteraciones += 1\n",
        "  next_x = no_clasificado[-1]\n",
        "  w = w + ys[tuple(next_x)]*next_x\n",
        "  no_clasificado = list(filter(lambda x: np.sign(np.sum(w*x)) != ys[tuple(x)], xs))\n",
        "g = lambda x: -(w[1]/w[2])*x - (w[0]/w[2])\n",
        "\n",
        "fig = plt.figure()\n",
        "ax1 = fig.add_subplot(111)\n",
        "\n",
        "ax1.scatter([i[1] for i in xs if ys[tuple(i)] == 1], [i[2] for i in xs if ys[tuple(i)] == 1], s=10, c='g', marker=\"x\", label='upper')\n",
        "ax1.scatter([i[1] for i in xs if ys[tuple(i)] == -1], [i[2] for i in xs if ys[tuple(i)] == -1], s=10, c='r', marker=\"o\", label='downer')\n",
        "ax1.plot([i[0] for i in puntos], [f(i[0]) for i in puntos])\n",
        "ax1.plot([i[0] for i in puntos], [g(i[0]) for i in puntos])\n",
        "plt.legend(loc='upper left');\n",
        "plt.show()\n",
        "iteraciones_e =  iteraciones\n",
        "print(\"Número de iteraciones: \", iteraciones_a)\n",
        "iteraciones = 0"
      ],
      "execution_count": null,
      "outputs": [
        {
          "output_type": "display_data",
          "data": {
            "image/png": "[encoded data removed]",
            "text/plain": [
              "<Figure size 432x288 with 1 Axes>"
            ]
          },
          "metadata": {
            "tags": [],
            "needs_background": "light"
          }
        },
        {
          "output_type": "stream",
          "text": [
            "Número de iteraciones:  39\n"
          ],
          "name": "stdout"
        }
      ]
    },
    {
      "cell_type": "code",
      "metadata": {
        "colab": {
          "base_uri": "https://localhost:8080/"
        },
        "id": "AIXVOy0GFLIZ",
        "outputId": "283e774b-df63-42b1-e3e3-8bd33abf7338"
      },
      "source": [
        "#(f)\n",
        "import numpy as np\n",
        "import matplotlib.pyplot as plt\n",
        "\n",
        "parameters_f = np.random.uniform(-1,1,(1001,)) #Este vector determina nuestro f\n",
        "puntos = np.array([np.array([1,*np.random.uniform(-1,1,(1000,))]) for x in range(1000)]) #estos son los xs sobre los que trabajaremos\n",
        "region = lambda x: np.sign(np.sum(x[1:]*parameters_f[1:]) - parameters_f[0]) #esta función nos dice si el punto en cuestión está por encima o por debajo de nuestro objetivo\n",
        "w = np.random.uniform(-1,1,(1001,)) #los pesos iniciales que queremos optimizar\n",
        "clasificado = lambda x: np.sign(np.sum(w*x)) == region(x) #esta función nos dice si el punto x ya está clasificado o no\n",
        "sin_clasificar = np.array([x for x in puntos if not clasificado(x)]) # este es el conjunto de puntos que w no clasifica adecuadamente\n",
        "iteraciones = 0 #número de iteraciones\n",
        "while len(sin_clasificar) > 0:\n",
        "  iteraciones += 1\n",
        "  next_x = sin_clasificar[-1]\n",
        "  w = w + region(next_x)*next_x\n",
        "  sin_clasificar = np.array([x for x in puntos if not clasificado(x)])\n",
        "print(\"Número total de iteraciones: \", iteraciones)"
      ],
      "execution_count": 125,
      "outputs": [
        {
          "output_type": "stream",
          "text": [
            "Número total de iteraciones:  874\n"
          ],
          "name": "stdout"
        }
      ]
    },
    {
      "cell_type": "code",
      "metadata": {
        "colab": {
          "base_uri": "https://localhost:8080/",
          "height": 302
        },
        "id": "7D2gMMNcOY7y",
        "outputId": "e63c7ed9-8e14-4901-e626-672fa1c93f6b"
      },
      "source": [
        "#(g)\n",
        "\n",
        "#mismos parámetros y mismos puntos; repetido 100 veces y escogiendo el x para corregir w de forma aleatoria\n",
        "\n",
        "import matplotlib.pyplot as plt\n",
        "registro = {}\n",
        "for i in range(100):\n",
        "  print(\"Intento No.{}\".format(i),end='\\t')\n",
        "  w = np.random.uniform(-1,1,(1001,))\n",
        "  iteraciones = 0\n",
        "  sin_clasificar_filtro = ~np.apply_along_axis(clasificado, 1, puntos)\n",
        "  sin_clasificar = puntos[sin_clasificar_filtro]\n",
        "  while len(sin_clasificar) > 0:\n",
        "    iteraciones += 1\n",
        "    random_n = np.random.randint(0,len(sin_clasificar))\n",
        "    next_x = sin_clasificar[random_n]\n",
        "    w = w + region(next_x)*next_x\n",
        "    sin_clasificar_filtro = ~np.apply_along_axis(clasificado, 1, puntos)\n",
        "    sin_clasificar = puntos[sin_clasificar_filtro]\n",
        "  registro[\"Intento No.{}\".format(i)] = iteraciones\n",
        "keys = registro.keys()\n",
        "values = registro.values()\n",
        "plt.bar(keys,values)"
      ],
      "execution_count": 142,
      "outputs": [
        {
          "output_type": "stream",
          "text": [
            "Intento No.0\tIntento No.1\tIntento No.2\tIntento No.3\tIntento No.4\tIntento No.5\tIntento No.6\tIntento No.7\tIntento No.8\tIntento No.9\tIntento No.10\tIntento No.11\tIntento No.12\tIntento No.13\tIntento No.14\tIntento No.15\tIntento No.16\tIntento No.17\tIntento No.18\tIntento No.19\tIntento No.20\tIntento No.21\tIntento No.22\tIntento No.23\tIntento No.24\tIntento No.25\tIntento No.26\tIntento No.27\tIntento No.28\tIntento No.29\tIntento No.30\tIntento No.31\tIntento No.32\tIntento No.33\tIntento No.34\tIntento No.35\tIntento No.36\tIntento No.37\tIntento No.38\tIntento No.39\tIntento No.40\tIntento No.41\tIntento No.42\tIntento No.43\tIntento No.44\tIntento No.45\tIntento No.46\tIntento No.47\tIntento No.48\tIntento No.49\tIntento No.50\tIntento No.51\tIntento No.52\tIntento No.53\tIntento No.54\tIntento No.55\tIntento No.56\tIntento No.57\tIntento No.58\tIntento No.59\tIntento No.60\tIntento No.61\tIntento No.62\tIntento No.63\tIntento No.64\tIntento No.65\tIntento No.66\tIntento No.67\tIntento No.68\tIntento No.69\tIntento No.70\tIntento No.71\tIntento No.72\tIntento No.73\tIntento No.74\tIntento No.75\tIntento No.76\tIntento No.77\tIntento No.78\tIntento No.79\tIntento No.80\tIntento No.81\tIntento No.82\tIntento No.83\tIntento No.84\tIntento No.85\tIntento No.86\tIntento No.87\tIntento No.88\tIntento No.89\tIntento No.90\tIntento No.91\tIntento No.92\tIntento No.93\tIntento No.94\tIntento No.95\tIntento No.96\tIntento No.97\tIntento No.98\tIntento No.99\t"
          ],
          "name": "stdout"
        },
        {
          "output_type": "execute_result",
          "data": {
            "text/plain": [
              "<BarContainer object of 100 artists>"
            ]
          },
          "metadata": {
            "tags": []
          },
          "execution_count": 142
        },
        {
          "output_type": "display_data",
          "data": {
            "image/png": "[encoded data removed]",
            "text/plain": [
              "<Figure size 432x288 with 1 Axes>"
            ]
          },
          "metadata": {
            "tags": [],
            "needs_background": "light"
          }
        }
      ]
    },
    {
      "cell_type": "markdown",
      "metadata": {
        "id": "Gy2hWPOAhEdS"
      },
      "source": [
        "**(h)** La dimensión no aumenta significativamente el número de iteraciones, aunque sí incrementa considerablemente el tiempo requerido debido a las operaciones adicionales. $w$ nunca es tan parecido a nuestra función objetivo, pero gráficamene son muy cercanas, al menos en torno a los pundos tomados"
      ]
    },
    {
      "cell_type": "markdown",
      "metadata": {
        "id": "-9VDR2Gma902"
      },
      "source": [
        "##Problema 1.6\n",
        "\n",
        "Considere una muestra de $10$ canicas tomadas independientemente de una urna con canicas verdes y rojas. La probabilidad de una canica roja es $\\mu$. Para $\\mu = 0.05$, $\\mu = 0.5$, y $\\mu=0.8$, compute la probabilidad de que no se tomen canicas rojas $(\\nu=0)$.\n",
        "\n",
        "**(a)** compute la probabilidad si se toma una sola muestra de que $\\nu = 0$.\n",
        "\n",
        "**(b)** compute la probabilidad de que al menos una de las muestras tenga $\\nu = 0$ para 1000 muestras.\n",
        "\n",
        "**(c)** repita **(b)** para $1000000$ muestras."
      ]
    },
    {
      "cell_type": "markdown",
      "metadata": {
        "id": "Xe3eWZaPgqNx"
      },
      "source": [
        "#Solución\n",
        "**(a)** Acá basta con usar una distribución binomial. Lo único que hace falta es cambiar los parámetros:\n",
        "\n",
        "$$P[\\nu = 0] = \\binom{10}{0} 0.05^{0}(1-0.05)^{10}=0.598$$\n",
        "\n",
        "$$P[\\nu = 0] = \\binom{10}{0} 0.5^{0}(1-0.5)^{10}=0.000976$$\n",
        "\n",
        "$$P[\\nu = 0] = \\binom{10}{0} 0.8^{0}(1-0.8)^{10}=1.024 \\times 10^{-7} $$\n",
        "\n",
        "**(b)** La selección de cada muestra puede ser vista como un experimento de Bernulli. Para $\\mu = 0.05$, $p=0.598$. Sea $v$ el número de veces que $\\nu = 0$ en estas muestras. Procedemos así: \n",
        "\n",
        "$$P[v > 0] = 1 - \\binom{1000}{0} p^{0}(1-p)^{1000} = 0.999... \\text{ (muy cercano a uno)}$$\n",
        "\n",
        "Para $\\mu = 0.5$, $p=0.000976$:\n",
        "\n",
        "$$P[v > 0] = 1 - \\binom{1000}{0} p^{0}(1-p)^{1000} = 0.62$$\n",
        "\n",
        "Para $\\mu = 0.8$, $p=1.024 \\times 10^{-7}$:\n",
        "\n",
        "$$P[v > 0] = 1 - \\binom{1000}{0} p^{0}(1-p)^{1000} = 0.0001023$$\n",
        "\n",
        "**(c)** De nuevo. Para $\\mu = 0.05$, $p=0.598$:\n",
        "\n",
        "$$P[v > 0] = 1 - \\binom{1000000}{0} p^{0}(1-p)^{1000000} = 0.999... \\text{ (muy cercano a uno)}$$\n",
        "\n",
        "Para $\\mu = 0.5$, $p=0.000976$:\n",
        "\n",
        "$$P[v > 0] = 1 - \\binom{1000000}{0} p^{0}(1-p)^{1000000} = 0.999... \\text{ (muy cercano a uno)}$$\n",
        "\n",
        "Para $\\mu = 0.8$, $p=1.024 \\times 10^{-7}$:\n",
        "\n",
        "$$P[v > 0] = 1 - \\binom{1000000}{0} p^{0}(1-p)^{1000000} = 0.097$$"
      ]
    },
    {
      "cell_type": "markdown",
      "metadata": {
        "id": "DXf_Q9Sz8JRX"
      },
      "source": [
        "##Problema 1.9\n",
        "\n",
        "En este problema derivamos una fomra de la ley de los grandes números con una cota exponencial, llamada cota de Chernoff. Nos concentramosen el caso sencillo de lanzar una moneda, y utuilizar una aproximación similar a la del problema 1.8.\n",
        "\n",
        "**(a)** Sea $t$ una variable aleatoria finita, $\\alpha$ una constante positiva, y $s$ un parámetro positivo. Si $T(s) = \\mathbb{E}_{t}(e^{st})$, muestre que:\n",
        "\n",
        "$$P[t>\\alpha] \\leq e^{-s\\alpha} T(s)$$\n",
        "\n",
        "**(b)** Sean $u_1 \\cdots u_N$ variables aleatoreas iid, y sea $u=\\frac{1}{N}\\sum_{n=1}^{N} u_n$. Si $U(s) = \\mathbb{E}_{u_n}(e^{su_n})$ (para cualqueir n), prueve que\n",
        "\n",
        "$$P[u \\geq \\alpha] = (e^{-s\\alpha}U(s))^N$$\n",
        "\n",
        "**(c)** Suponga $P[u_n=0]=P[u_n=1]=\\frac{1}{2}$ (una moneda justa). Evalúe $U(s)$ como una función de $s$, y minimice $e^{-s\\alpha}U(s)$ con respecto a $s$ con $\\alpha$ fijo, $0<\\alpha< 1$.\n",
        "\n",
        "**(d)** Concluya en **(c)** que, para $0 < \\epsilon < 1$ \n",
        "\n",
        "$$P[u \\geq \\mathbb{E}(u) + \\epsilon] \\leq 2^{-\\beta N}$$\n",
        "\n",
        "donde $\\beta = 1+(\\frac{1}{2} + \\epsilon)\\log_{2}(\\frac{1}{2} + \\epsilon)+ (\\frac{1}{2} - \\epsilon)\\log_{2}(\\frac{1}{2} - \\epsilon)$ y $\\mathbb{E}(u) = \\frac{1}{2}$. Muestre que $\\beta>0$, luego el la cota es exponencialmente decreciente con respecto a $N$. "
      ]
    },
    {
      "cell_type": "markdown",
      "metadata": {
        "id": "hXMfJF3OF2HH"
      },
      "source": [
        "#Solución\n",
        "\n",
        "**(a)** Suponga que $t$ es discreta. De ser así, y si $t$ es finta, existe $u$ tal que $P[t>u] = 0$. Esuma también que existe un $u'$ tal que $P[t<u']=0$.\n",
        "\n",
        "Sabemos que $\\mathbb{E}_{t}(e^{st}) = \\sum_{i = u'}^{u} e^{si}P[t=i]$. Esto es:\n",
        "\n",
        "$$\\mathbb{E}_{t}(e^{st}) = \\sum_{i = u'}^{u} e^{si}P[t=i]=\\sum_{i = u'}^{\\alpha-1} e^{si}P[t=i] + \\sum_{i = \\alpha}^{u} e^{si}P[t=i]$$\n",
        "\n",
        "Sea $\\sum_{i = u'}^{\\alpha-1} e^{si}P[t=i]=C$.\n",
        "\n",
        "$$\\mathbb{E}_{t}(e^{st})= C + \\sum_{i = \\alpha}^{u} e^{si}P[t=i]$$\n",
        "\n",
        "Note que  \n",
        "\n",
        "$$\\sum_{i = \\alpha}^{u} e^{si}P[t=i]=e^{s\\alpha}P[t=\\alpha]+e^{s(\\alpha+1)}P[t=\\alpha+1] + \\cdots + e^{su}P[t=u]$$\n",
        "\n",
        "Como $e^{st}$ es una función creciente:\n",
        "\n",
        "$$\\sum_{i = \\alpha}^{u} e^{si}P[t=i] \\geq e^{s\\alpha}P[t=\\alpha]+e^{s\\alpha}P[t=\\alpha+1] + \\cdots + e^{s\\alpha}P[t=u]$$\n",
        "Es decir:\n",
        "\n",
        "$$\\sum_{i = \\alpha}^{u} e^{si}P[t=i] \\geq e^{s\\alpha} P[t \\geq \\alpha]$$\n",
        "\n",
        "Claramente: \n",
        "\n",
        "$$C+\\sum_{i = \\alpha}^{u} e^{si}P[t=i] \\geq e^{s\\alpha} P[t \\geq \\alpha]$$\n",
        "\n",
        "$$\\mathbb{E}_{t}(e^{st}) \\geq e^{s\\alpha} P[t \\geq \\alpha]$$\n",
        "$$T(s) \\geq e^{s\\alpha} P[t \\geq \\alpha]$$\n",
        "$$e^{-s\\alpha} T(s) \\geq P[t\\geq\\alpha]$$\n",
        "Concluimos entonces:\n",
        "$$P[t\\geq\\alpha] \\leq e^{-s\\alpha} T(s)$$\n",
        "**el caso continuo es análogo, pero definimos $T(s) = \\int_{u'}^u e^{st}p(t)dt$**.\n",
        "\n",
        "**(b)**\n",
        "\n",
        "Tome $t = N\\mu$. De acuerdo a lo que acabamos de probar:\n",
        "\n",
        "$$P[N\\mu \\geq N\\alpha] \\leq e^{-sN\\alpha}\\mathbb{E}_{N\\mu}(e^{sN\\mu})$$\n",
        "\n",
        "$$P[\\mu \\geq \\alpha] \\leq e^{-sN\\alpha}\\mathbb{E}_{N\\mu}(\\Pi_{i \\leq N} e^{su_i})$$\n",
        "\n",
        "$$P[\\mu \\geq \\alpha] \\leq e^{-sN\\alpha} \\Pi_{i \\leq N} \\mathbb{E}_{u_i}( e^{su_i})$$\n",
        "\n",
        "$$P[\\mu \\geq \\alpha] \\leq e^{-sN\\alpha} U(s)^{N}$$\n",
        "\n",
        "$$P[\\mu \\geq \\alpha] \\leq (e^{-s\\alpha} U(s))^{N}$$\n",
        "\n",
        "**(c)** En este caso $U(s) = \\frac{e^{s}}{2} + \\frac{1}{2}$. Por esto: \n",
        "\n",
        "$$e^{-\\alpha s}U(s) = \\frac{e^{s(1-\\alpha)}}{2} + \\frac{e^{-\\alpha s}}{2}$$\n",
        "\n",
        "Derivamos con respecto a $s$ e igualamos a $0$:\n",
        "\n",
        "$$(1-\\alpha)\\frac{e^{s(1-\\alpha)}}{2} - \\alpha\\frac{e^{-\\alpha s}}{2}=0$$\n",
        "\n",
        "$$\\frac{e^{s(1-\\alpha)}}{e^{s\\alpha}} = \\frac{\\alpha}{1-\\alpha}$$\n",
        "\n",
        "$$e^{s} = \\frac{\\alpha}{1-\\alpha}$$\n",
        "\n",
        "Por lo tanto:\n",
        "\n",
        "$$s = \\ln(\\frac{\\alpha}{1-\\alpha})$$\n",
        "\n",
        "**(d)**\n",
        "Tome $s = \\ln(\\frac{\\alpha}{1-\\alpha})$\n",
        "\n",
        "$$e^{-s\\alpha}U(s) = \\frac{e^{s(1-\\alpha)}}{2} + \\frac{e^{-\\alpha s}}{2}$$\n",
        "\n",
        "$$e^{-s\\alpha}U(s) = \\frac{e^{\\ln(\\frac{\\alpha}{1-\\alpha})(1-\\alpha)}}{2} + \\frac{e^{-\\alpha \\ln(\\frac{\\alpha}{1-\\alpha})}}{2}$$\n",
        "\n",
        "$$e^{-s\\alpha}U(s) = \\frac{\\frac{\\alpha}{1-\\alpha}e^{(1-\\alpha)}}{2} + \\frac{\\frac{\\alpha}{1-\\alpha}e^{-\\alpha }}{2}$$\n",
        "\n",
        "Si $\\alpha = \\mathbb{E}(u) + \\epsilon = \\frac{1}{2} + \\epsilon$\n",
        "\n",
        "$$e^{-s(\\frac{1}{2} + \\epsilon)}U(s) = \\frac{\\frac{\\frac{1}{2} + \\epsilon}{1-(\\frac{1}{2} + \\epsilon)}e^{(1-(\\frac{1}{2} + \\epsilon))}}{2} + \\frac{\\frac{\\alpha}{1-(\\frac{1}{2} + \\epsilon)}e^{-(\\frac{1}{2} + \\epsilon) }}{2}$$\n",
        "\n",
        "$$e^{-s\\alpha}U(s) = \\frac{1}{2}(\\frac{1}{2}-\\epsilon)^{-(\\frac{1}{2}-\\epsilon)}(\\frac{1}{2}+\\epsilon)^{-(\\frac{1}{2}+\\epsilon)}$$\n",
        "\n",
        "$$e^{-s\\alpha}U(s) = 2^{\\log_{2} (\\frac{1}{2}(\\frac{1}{2}-\\epsilon)^{-(\\frac{1}{2}-\\epsilon)}(\\frac{1}{2}+\\epsilon)^{-(\\frac{1}{2}+\\epsilon)})}$$\n",
        "\n",
        "Note que $\\log_{2}(\\frac{1}{2}(\\frac{1}{2}-\\epsilon)^{-(\\frac{1}{2}-\\epsilon)}(\\frac{1}{2}+\\epsilon)^{-(\\frac{1}{2}+\\epsilon)}) = -1-(\\frac{1}{2} + \\epsilon)\\log_{2}(\\frac{1}{2} + \\epsilon)-(\\frac{1}{2} - \\epsilon)\\log_{2}(\\frac{1}{2} - \\epsilon)$\n",
        "\n",
        "Luego:\n",
        "\n",
        "$$e^{-s\\alpha}U(s)  = 2^{-\\beta}$$\n",
        "\n",
        "Se obtiene fácilmente que:\n",
        "\n",
        "$$P[u \\geq \\mathbb{u} + \\epsilon] \\leq 2^{-\\beta N}$$\n"
      ]
    },
    {
      "cell_type": "markdown",
      "metadata": {
        "id": "Yv1UV6zFo6Cx"
      },
      "source": [
        "##Problema 1.12\n",
        "\n",
        "**(a)** Basta con minimizar $\\mathbb{E}_{in}(h)$ con respecto a $h$. Esto es:\n",
        "\n",
        "$$ \\frac{d}{dh}(\\mathbb{E}_{in}(h))=0$$\n",
        "$$2\\sum_{n=1}^{N}(h-y_n)=0$$\n",
        "$$\\sum_{n=1}^{N}(h-y_n)=0$$\n",
        "$$\\sum_{n=1}^{N}h=\\sum_{n=1}^{N}y_n$$\n",
        "$$h_{mean}=\\frac{1}{N}\\sum_{n=1}^{N}y_n$$\n",
        "\n",
        "**(b)**  Acá usamos el mismo artificio:\n",
        "\n",
        "$$ \\frac{d}{dh}(\\mathbb{E}_{in}(h))=0$$\n",
        "$$\\sum_{n=1}^{N}signo(h-y_n)=0$$\n",
        "\n",
        "Para la mediana, hay tantos puntos por encima de ella como por debajo, por lo que esta suma es siemrpe $0$ para este valor.\n",
        "\n",
        "**(c)** $h_{mean}$ cambia, como hemos visto en **(a)**, puesto que depende de los $y_i$. $h_{med}$ queda igual siempre que $h_{med} < y_N$.\n"
      ]
    }
  ]
}