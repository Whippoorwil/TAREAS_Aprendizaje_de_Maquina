{
 "cells": [
  {
   "cell_type": "code",
   "execution_count": 49,
   "metadata": {},
   "outputs": [
    {
     "name": "stdout",
     "output_type": "stream",
     "text": [
      "These are v_1 = 0.5, v_min =0.0, v_rand = 0.5 and u = 0.5034000000000002\n"
     ]
    }
   ],
   "source": [
    "'''\n",
    "We create a class that represent the fliping of a single coin 10 times.\n",
    "It istores v (as described in the book) and the amount of heads (represented by ones)\n",
    "'''\n",
    "from operator import attrgetter\n",
    "import random\n",
    "import matplotlib.pyplot as plt\n",
    "\n",
    "class coin:\n",
    "    def __init__(self):\n",
    "        self.flips = [random.randint(0,1) for _ in range(10)]\n",
    "        self.v = sum(self.flips) / 10\n",
    "\n",
    "'''\n",
    "We flip a thousand coins 10 times independently. The coins and their attributes\n",
    "are saved within t_coin\n",
    "'''\n",
    "t_coin = [coin() for _ in range(1000)]\n",
    "\n",
    "'''\n",
    "We select the coins c_1, c_min and c_rand as demanded in the exercice\n",
    "'''\n",
    "c_1 = t_coin[0]\n",
    "c_min = min(t_coin, key = attrgetter('v'))\n",
    "c_rand = t_coin[random.randint(0,999)]\n",
    "\n",
    "# u in this case is nothing more than the additon of all the v's for each coin devided by 1000\n",
    "\n",
    "print(\"These are v_1 = {}, v_min ={}, v_rand = {} and u = {}\"\n",
    "      .format(c_1.v,c_min.v,c_rand.v,sum(i.v for i in t_coin)/1000))"
   ]
  },
  {
   "cell_type": "code",
   "execution_count": 46,
   "metadata": {},
   "outputs": [
    {
     "name": "stdout",
     "output_type": "stream",
     "text": [
      "iteración: 100000\r"
     ]
    },
    {
     "data": {
      "image/png": "[encoded data removed]",
      "text/plain": [
       "<Figure size 432x288 with 1 Axes>"
      ]
     },
     "metadata": {
      "needs_background": "light"
     },
     "output_type": "display_data"
    },
    {
     "data": {
      "image/png": "[encoded data removed]",
      "text/plain": [
       "<Figure size 432x288 with 1 Axes>"
      ]
     },
     "metadata": {
      "needs_background": "light"
     },
     "output_type": "display_data"
    },
    {
     "data": {
      "image/png": "[encoded data removed]",
      "text/plain": [
       "<Figure size 432x288 with 1 Axes>"
      ]
     },
     "metadata": {
      "needs_background": "light"
     },
     "output_type": "display_data"
    }
   ],
   "source": [
    "#We now repeat the experiment 10000 times\n",
    "dic_1 = {}\n",
    "dic_min = {}\n",
    "dic_rand = {}\n",
    "it = 0\n",
    "for _ in range(0,100000):\n",
    "    it += 1\n",
    "    print(\"iteración: {}\".format(it), end='\\r')\n",
    "    t_coin = [coin() for _ in range(1000)]\n",
    "    c_1 = t_coin[0]\n",
    "    c_min = min(t_coin, key = attrgetter('v'))\n",
    "    c_rand = t_coin[random.randint(0,999)]\n",
    "    \n",
    "    if c_min.v < 0 or c_1.v < 0 or c_rand.v < 0:\n",
    "        print(\"v_min = {}, v_1 = {}, v_rand = {}\".format(c_min.v, c_1.v, c_rand.v))\n",
    "        break\n",
    "    \n",
    "    if c_1.v in dic_1:\n",
    "        dic_1[c_1.v] += 1\n",
    "    else:\n",
    "        dic_1[c_1.v] = 1\n",
    "        \n",
    "    if c_min.v in dic_min:\n",
    "        dic_min[c_min.v] += 1\n",
    "    else:\n",
    "        dic_min[c_min.v] = 1\n",
    "        \n",
    "    if c_rand.v in dic_rand:\n",
    "        dic_rand[c_rand.v] += 1\n",
    "    else:\n",
    "        dic_rand[c_rand.v] = 1\n",
    "#We plot the distribution of v_1\n",
    "plt.bar(dic_1.keys(), dic_1.values(), 0.08)\n",
    "plt.show()\n",
    "#We plot the distribution of v_min\n",
    "plt.bar(dic_min.keys(), dic_min.values(), 0.01)\n",
    "plt.show()\n",
    "#We plot the distribution of v_rand\n",
    "plt.bar(dic_rand.keys(), dic_rand.values(), 0.08)\n",
    "plt.show()"
   ]
  },
  {
   "cell_type": "code",
   "execution_count": 51,
   "metadata": {},
   "outputs": [
    {
     "data": {
      "text/plain": [
       "\"\\nWe see here that c_rand and c_1 fit nicely into what one would expect if they followed Hoeffding's Law.\\nC_min does not follow it, reason being C_min does not follow a binomial distribution. \\nWe take u to be 0.5 aprox, and we observe that for \\\\sigma > 0, P(|v-u|<\\\\sigma) is nothing more than \\nP'(v>u+\\\\Sigma) + P'(v < u - \\\\sigma) where P' is a binomial distribution with parameters p=u and n=10.\\nI do not distinguish between c_1 and c_rand because they are equally distriburted.\\nWe can approximate a Binomial distribution by stablishing a Normal distribution P'' ~ N(0,2.5) where 0.25 is the variance.\\nNow, P'' is not centered arrown u, so P''(X > x) = P'(X' > x + u ). We rewrite P(|v-u|<\\\\sigma)\\nP(|v-u|<\\\\sigma) = P''(v> \\\\Sigma) + P''(v < - \\\\sigma)\\n\""
      ]
     },
     "execution_count": 51,
     "metadata": {},
     "output_type": "execute_result"
    }
   ],
   "source": [
    "'''\n",
    "We see here that c_rand and c_1 fit nicely into what one would expect if they followed Hoeffding's Law.\n",
    "C_min does not follow it, reason being C_min does not follow a binomial distribution. \n",
    "We take u to be 0.5 aprox, and we observe that for \\sigma > 0, P(|v-u|<\\sigma) is nothing more than \n",
    "P'(v>u+\\Sigma) + P'(v < u - \\sigma) where P' is a binomial distribution with parameters p=u and n=10.\n",
    "I do not distinguish between c_1 and c_rand because they are equally distriburted.\n",
    "We can approximate a Binomial distribution by stablishing a Normal distribution P'' ~ N(0,2.5) where 0.25 is the variance.\n",
    "Now, P'' is not centered around u, so P''(X > x) = P'(X' > x + u ). We rewrite P(|v-u|<\\sigma)\n",
    "P(|v-u|<\\sigma) = P''(v> \\Sigma) + P''(v < - \\sigma)\n",
    "But P''(v> \\Sigma) = P''(v < - \\sigma), then P(|v-u|<\\sigma) = 2P''(v < -\\Sigma)\n",
    "This fits nicely with Hoeffding's Law, since P''(v < \\Sigma) <= 2 * e^{-2 * {\\sigma^2} * 10}.\n",
    "\n",
    "We can relate this problem with the bin problem. For each coin we select 10 marbles; red if we got heads, green\n",
    "if we get tails. If we assume there is replacement, the two problems are identical by virtue of this correspondence.\n",
    "\n",
    "'''"
   ]
  },
  {
   "cell_type": "code",
   "execution_count": 57,
   "metadata": {},
   "outputs": [
    {
     "name": "stdout",
     "output_type": "stream",
     "text": [
      "iteración: 100000\r"
     ]
    },
    {
     "data": {
      "image/png": "[encoded data removed]",
      "text/plain": [
       "<Figure size 432x288 with 1 Axes>"
      ]
     },
     "metadata": {
      "needs_background": "light"
     },
     "output_type": "display_data"
    },
    {
     "data": {
      "image/png": "[encoded data removed]",
      "text/plain": [
       "<Figure size 432x288 with 1 Axes>"
      ]
     },
     "metadata": {
      "needs_background": "light"
     },
     "output_type": "display_data"
    },
    {
     "data": {
      "image/png": "[encoded data removed]",
      "text/plain": [
       "<Figure size 432x288 with 1 Axes>"
      ]
     },
     "metadata": {
      "needs_background": "light"
     },
     "output_type": "display_data"
    }
   ],
   "source": [
    "#For the sake of programming. Is there a more elegant way of doing this exercice?\n",
    "bdic_1 ={}\n",
    "bdic_rand = {}\n",
    "bdic_min = {}\n",
    "it = 1\n",
    "while it < 100000:\n",
    "    print(\"iteración: {}\".format(it+1), end='\\r')\n",
    "    bt_coins = [sum(random.randint(0,1) for _ in range(10)) / 10 for _ in range(1000)]\n",
    "    bc_1 = bt_coins[0]\n",
    "    bc_rand = bt_coins[random.randint(0,999)]\n",
    "    bc_min = min(bt_coins)\n",
    "    \n",
    "    if bc_1 in bdic_1:\n",
    "        bdic_1[bc_1] += 1\n",
    "    else:\n",
    "        bdic_1[bc_1] = 1\n",
    "        \n",
    "    if bc_rand in bdic_rand:\n",
    "        bdic_rand[bc_rand] += 1\n",
    "    else:\n",
    "        bdic_rand[bc_rand] = 1\n",
    "    \n",
    "    if bc_min in bdic_min:\n",
    "        bdic_min[bc_min] += 1\n",
    "    else:\n",
    "        bdic_min[bc_min] = 1\n",
    "    it += 1\n",
    "        \n",
    "#We plot the distribution of v_1\n",
    "plt.bar(bdic_1.keys(), bdic_1.values(), 0.08)\n",
    "plt.show()\n",
    "#We plot the distribution of v_min\n",
    "plt.bar(bdic_min.keys(), bdic_min.values(), 0.01)\n",
    "plt.show()\n",
    "#We plot the distribution of v_rand\n",
    "plt.bar(bdic_rand.keys(), bdic_rand.values(), 0.08)\n",
    "plt.show()"
   ]
  },
  {
   "cell_type": "code",
   "execution_count": null,
   "metadata": {},
   "outputs": [],
   "source": [
    "#It might be simpler, but the amount of time I saved was minimal. I think this code is less readable though"
   ]
  }
 ],
 "metadata": {
  "kernelspec": {
   "display_name": "Python 3",
   "language": "python",
   "name": "python3"
  },
  "language_info": {
   "codemirror_mode": {
    "name": "ipython",
    "version": 3
   },
   "file_extension": ".py",
   "mimetype": "text/x-python",
   "name": "python",
   "nbconvert_exporter": "python",
   "pygments_lexer": "ipython3",
   "version": "3.8.5"
  }
 },
 "nbformat": 4,
 "nbformat_minor": 4
}
